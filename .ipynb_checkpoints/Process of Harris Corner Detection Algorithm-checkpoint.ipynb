{
 "cells": [
  {
   "cell_type": "markdown",
   "metadata": {},
   "source": [
    "### Process of Harris Corner Detection Algorithm\n",
    "1. Color to grayscale\n",
    "2. Spatial derivative calculation\n",
    "3. Structure tensor setup\n",
    "4. Harris response calculation\n",
    "5. Non-maximum suppression"
   ]
  },
  {
   "cell_type": "markdown",
   "metadata": {},
   "source": [
    "#### Step 1 : Color to grayscale"
   ]
  },
  {
   "cell_type": "code",
   "execution_count": 1,
   "metadata": {},
   "outputs": [
    {
     "data": {
      "text/plain": [
       "<Figure size 640x480 with 1 Axes>"
      ]
     },
     "metadata": {},
     "output_type": "display_data"
    }
   ],
   "source": [
    "from skimage.io import imread\n",
    "from skimage.color import rgb2gray\n",
    "import matplotlib.pyplot as plt\n",
    "from scipy import ndimage as ndi\n",
    "from skimage.feature import peak_local_max\n",
    "from skimage.feature import corner_harris, corner_peaks\n",
    "\n",
    "img = imread('resources/box.jpg')\n",
    "imggray = rgb2gray(img)\n",
    "\n",
    "plt.imshow(imggray, cmap=\"gray\")\n",
    "plt.axis(\"off\")\n",
    "plt.show()"
   ]
  },
  {
   "cell_type": "markdown",
   "metadata": {},
   "source": [
    "#### Step 2 : Spatial derivative calculation"
   ]
  },
  {
   "cell_type": "code",
   "execution_count": 2,
   "metadata": {},
   "outputs": [],
   "source": [
    "from scipy import signal as sig\n",
    "import numpy as np\n",
    "\n",
    "def gradient_x(imggray):\n",
    "    ##Sobel operator kernels.\n",
    "    kernel_x = np.array([[-1, 0, 1],[-2, 0, 2],[-1, 0, 1]])\n",
    "    return sig.convolve2d(imggray, kernel_x, mode='same')\n",
    "def gradient_y(imggray):\n",
    "    kernel_y = np.array([[1, 2, 1], [0, 0, 0], [-1, -2, -1]])\n",
    "    return sig.convolve2d(imggray, kernel_y, mode='same')\n",
    "\n",
    "I_x = gradient_x(imggray)\n",
    "I_y = gradient_y(imggray)"
   ]
  },
  {
   "cell_type": "markdown",
   "metadata": {},
   "source": [
    "#### Step 3 : Structure tensor setup"
   ]
  },
  {
   "cell_type": "code",
   "execution_count": 3,
   "metadata": {},
   "outputs": [],
   "source": [
    "Ixx = ndi.gaussian_filter(I_x**2, sigma=1)\n",
    "Ixy = ndi.gaussian_filter(I_y*I_x, sigma=1)\n",
    "Iyy = ndi.gaussian_filter(I_y**2, sigma=1)"
   ]
  },
  {
   "cell_type": "markdown",
   "metadata": {},
   "source": [
    "#### Step 4: Harris response calculation"
   ]
  },
  {
   "cell_type": "code",
   "execution_count": 4,
   "metadata": {},
   "outputs": [],
   "source": [
    "k = 0.05\n",
    "\n",
    "# determinant\n",
    "detA = Ixx * Iyy - Ixy ** 2\n",
    "# trace\n",
    "traceA = Ixx + Iyy\n",
    "    \n",
    "harris_response = detA - k * traceA ** 2\n",
    "\n",
    "# height, width = imggray.shape\n",
    "# harris_response = []\n",
    "# window_size = 6\n",
    "# offset = int(window_size/2)\n",
    "# for y in range(offset, height-offset):\n",
    "#     for x in range(offset, width-offset):\n",
    "#         Sxx = np.sum(Ixx[y-offset:y+1+offset, x-offset:x+1+offset])\n",
    "#         Syy = np.sum(Iyy[y-offset:y+1+offset, x-offset:x+1+offset])\n",
    "#         Sxy = np.sum(Ixy[y-offset:y+1+offset, x-offset:x+1+offset])\n",
    "        \n",
    "#         #Find determinant and trace, use to get corner response\n",
    "#         det = (Sxx * Syy) - (Sxy**2)\n",
    "#         trace = Sxx + Syy\n",
    "#         r = det - k*(trace**2)\n",
    "        \n",
    "#         harris_response.append(r)"
   ]
  },
  {
   "cell_type": "markdown",
   "metadata": {},
   "source": [
    "#### Step 5: Non-maximum suppression\n",
    "1. Edge : r < 0\n",
    "2. Corner : r > 0\n",
    "3. Flat: r = 0"
   ]
  },
  {
   "cell_type": "code",
   "execution_count": 5,
   "metadata": {},
   "outputs": [
    {
     "data": {
      "image/png": "[encoded data removed]",
      "text/plain": [
       "<Figure size 720x720 with 2 Axes>"
      ]
     },
     "metadata": {
      "needs_background": "light"
     },
     "output_type": "display_data"
    }
   ],
   "source": [
    "img_copy_for_corners = np.copy(img)\n",
    "img_copy_for_edges = np.copy(img)\n",
    "\n",
    "for rowindex, response in enumerate(harris_response):\n",
    "    for colindex, r in enumerate(response):\n",
    "        if r > 0:\n",
    "            # this is a corner\n",
    "            img_copy_for_corners[rowindex, colindex] = [255,0,0]\n",
    "        elif r < 0:\n",
    "            # this is an edge\n",
    "            img_copy_for_edges[rowindex, colindex] = [0,255,0]\n",
    "    \n",
    "fig, ax = plt.subplots(nrows=1, ncols=2, figsize=(10,10))\n",
    "ax[0].set_title(\"corners found\")\n",
    "ax[0].imshow(img_copy_for_corners)\n",
    "ax[1].set_title(\"edges found\")\n",
    "ax[1].imshow(img_copy_for_edges)\n",
    "plt.show()"
   ]
  },
  {
   "cell_type": "markdown",
   "metadata": {},
   "source": [
    "### Grouping the corners into one point\n",
    "You can see there are multiple corners points found in the image, we need to find the local maxima of the corner points. there is a method in skimage which does a neat job in finding the peaks "
   ]
  },
  {
   "cell_type": "code",
   "execution_count": 6,
   "metadata": {},
   "outputs": [
    {
     "data": {
      "text/plain": [
       "[<matplotlib.lines.Line2D at 0x10ba44630>]"
      ]
     },
     "execution_count": 6,
     "metadata": {},
     "output_type": "execute_result"
    },
    {
     "data": {
      "image/png": "[encoded data removed]",
      "text/plain": [
       "<Figure size 432x288 with 1 Axes>"
      ]
     },
     "metadata": {
      "needs_background": "light"
     },
     "output_type": "display_data"
    }
   ],
   "source": [
    "corners = corner_peaks(harris_response)\n",
    "fig, ax = plt.subplots()\n",
    "ax.imshow(img, interpolation='nearest', cmap=plt.cm.gray)\n",
    "ax.plot(corners[:, 1], corners[:, 0], '.r', markersize=3)"
   ]
  },
  {
   "cell_type": "code",
   "execution_count": 8,
   "metadata": {},
   "outputs": [
    {
     "data": {
      "text/plain": [
       "[<matplotlib.lines.Line2D at 0x10c492470>]"
      ]
     },
     "execution_count": 8,
     "metadata": {},
     "output_type": "execute_result"
    },
    {
     "data": {
      "image/png": "[encoded data removed]",
      "text/plain": [
       "<Figure size 432x288 with 1 Axes>"
      ]
     },
     "metadata": {
      "needs_background": "light"
     },
     "output_type": "display_data"
    }
   ],
   "source": [
    "#Harris corner detection using skimage library\n",
    "from skimage.feature import corner_harris, corner_peaks\n",
    "coords = corner_peaks(skimage_harris_response)\n",
    "\n",
    "fig, ax = plt.subplots()\n",
    "ax.imshow(img, interpolation='nearest', cmap=plt.cm.gray)\n",
    "ax.plot(coords[:, 1], coords[:, 0], '.r', markersize=3)"
   ]
  },
  {
   "cell_type": "code",
   "execution_count": null,
   "metadata": {},
   "outputs": [],
   "source": []
  }
 ],
 "metadata": {
  "kernelspec": {
   "display_name": "Python 3",
   "language": "python",
   "name": "python3"
  },
  "language_info": {
   "codemirror_mode": {
    "name": "ipython",
    "version": 3
   },
   "file_extension": ".py",
   "mimetype": "text/x-python",
   "name": "python",
   "nbconvert_exporter": "python",
   "pygments_lexer": "ipython3",
   "version": "3.7.3"
  }
 },
 "nbformat": 4,
 "nbformat_minor": 2
}
